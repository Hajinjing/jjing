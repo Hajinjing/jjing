{
  "nbformat": 4,
  "nbformat_minor": 0,
  "metadata": {
    "colab": {
      "name": "exam09_principle_of_learning.ipynb",
      "provenance": [],
      "collapsed_sections": [],
      "authorship_tag": "ABX9TyPHd+IH1X2GBAGrp8y/g7I6",
      "include_colab_link": true
    },
    "kernelspec": {
      "name": "python3",
      "display_name": "Python 3"
    },
    "language_info": {
      "name": "python"
    }
  },
  "cells": [
    {
      "cell_type": "markdown",
      "metadata": {
        "id": "view-in-github",
        "colab_type": "text"
      },
      "source": [
        "<a href=\"https://colab.research.google.com/github/Hajinjing/jjing/blob/master/exam09_principle_of_learning.ipynb\" target=\"_parent\"><img src=\"https://colab.research.google.com/assets/colab-badge.svg\" alt=\"Open In Colab\"/></a>"
      ]
    },
    {
      "cell_type": "code",
      "source": [
        "import numpy as np\n",
        "import matplotlib.pyplot as plt"
      ],
      "metadata": {
        "id": "eeqDnhnEo6uC"
      },
      "execution_count": 63,
      "outputs": []
    },
    {
      "cell_type": "code",
      "execution_count": 8,
      "metadata": {
        "id": "jRxfZMNeMdQr"
      },
      "outputs": [],
      "source": [
        "class add_graph:\n",
        "  def __init__(self):\n",
        "    pass\n",
        "  \n",
        "  def forward(self, x, y):\n",
        "    out = x + y\n",
        "    return out\n",
        "  def backward(self, dout):\n",
        "    dx = 1 * dout  #x+y를 x에 대해 미분하면 1\n",
        "    dy = 1 * dout\n",
        "    return dx, dy\n"
      ]
    },
    {
      "cell_type": "code",
      "source": [
        "class mul_graph:\n",
        "  def __init__(self):\n",
        "    self.x=None    #변수 생성\n",
        "    self.y=None\n",
        "\n",
        "  def forward(self, x, y):\n",
        "    self.x = x\n",
        "    self.y = y    #객체변수라 여기서 저장해줌\n",
        "    out = x * y\n",
        "    return out\n",
        "\n",
        "  def backward(self, dout):\n",
        "    dx = self.y * dout\n",
        "    dy = self.x * dout\n",
        "    return dx, dy\n",
        "\n",
        "  #각각의 그래프에 곱하기, 더하기에 대한 미분 값만 남겨놓으면 체인룰에 의해서 계산그래프에 대한 미분값만 남게 된다. \n",
        "  "
      ],
      "metadata": {
        "id": "cu74hhDNPpYV"
      },
      "execution_count": 9,
      "outputs": []
    },
    {
      "cell_type": "code",
      "source": [
        "class mse_graph:\n",
        "  def __init__(self):\n",
        "    self.loss = None\n",
        "    self.y = None\n",
        "    self.t = None\n",
        "    self.x = None\n",
        "\n",
        "  def forward(self, y, t):\n",
        "    self.t = t\n",
        "    self.y = y\n",
        "    self.loss = np.square(self.t - self.y).sum() / self.t.shape[0]  #에러를 제곱해서 평균\n",
        "    return self.loss\n",
        "\n",
        "  def backward(self, x, dout=1):\n",
        "    data_size = self.t.shape[0]\n",
        "    dweight_mse = ((self.y-self.t)*x).sum()*2/data_size  #커널에 대한 미분 mse미분\n",
        "    dbias_mse = (self.y-self.t).sum()*2/data_size\n",
        "    return dweight_mse, dbias_mse\n",
        "  "
      ],
      "metadata": {
        "id": "50aj3_b9a_et"
      },
      "execution_count": 10,
      "outputs": []
    },
    {
      "cell_type": "code",
      "source": [
        "apple = 100\n",
        "apple_num = 2\n",
        "orange = 150\n",
        "orange_num = 3\n",
        "tax = 1.1"
      ],
      "metadata": {
        "id": "pbG9Rse1QGGm"
      },
      "execution_count": 23,
      "outputs": []
    },
    {
      "cell_type": "code",
      "source": [
        "mul_apple_graph = mul_graph()\n",
        "mul_orange_graph = mul_graph()\n",
        "add_apple_orange_graph = add_graph()\n",
        "mul_tax_graph = mul_graph()"
      ],
      "metadata": {
        "id": "CbFdBZm3QYcN"
      },
      "execution_count": 18,
      "outputs": []
    },
    {
      "cell_type": "code",
      "source": [
        "apple_price = mul_apple_graph.forward(apple, apple_num)\n",
        "orange_price = mul_orange_graph.forward(orange, orange_num)\n",
        "all_price = add_apple_orange_graph.forward(apple_price, orange_price)\n",
        "total_price = mul_tax_graph.forward(all_price, tax)\n",
        "\n",
        "print(total_price)"
      ],
      "metadata": {
        "colab": {
          "base_uri": "https://localhost:8080/"
        },
        "id": "4ix-o6GZQyVt",
        "outputId": "5c4d0a59-4894-40a3-9bc6-ebfb9154283f"
      },
      "execution_count": 24,
      "outputs": [
        {
          "output_type": "stream",
          "name": "stdout",
          "text": [
            "715.0000000000001\n"
          ]
        }
      ]
    },
    {
      "cell_type": "code",
      "source": [
        "dprice = 1   #맨 끝단에 줄 미분값 임의 설정..?\n",
        "\n",
        "dall_price, dtax = mul_tax_graph.backward(dprice)\n",
        "dapple_price, dorange_price = add_apple_orange_graph.backward(dall_price)\n",
        "dorange, dorange_num = mul_orange_graph.backward(dorange_price)\n",
        "dapple, dapple_num = mul_apple_graph.backward(dapple_price)\n",
        "print('dApple',dapple)\n",
        "print('dApple_num', dapple_num)\n",
        "print('dOrange',dorange)\n",
        "print('dOrange_num', dorange_num)\n",
        "#각각의 노드들이 1씩 증가할때마다 결과값이 얼마나 증가하는지 알 수 있음"
      ],
      "metadata": {
        "colab": {
          "base_uri": "https://localhost:8080/"
        },
        "id": "EsZAv2NJRbUF",
        "outputId": "538fc279-74ae-4bcf-a037-62c0819da1a1"
      },
      "execution_count": 20,
      "outputs": [
        {
          "output_type": "stream",
          "name": "stdout",
          "text": [
            "dApple 2.2\n",
            "dApple_num 110.00000000000001\n",
            "dOrange 3.3000000000000003\n",
            "dOrange_num 165.0\n"
          ]
        }
      ]
    },
    {
      "cell_type": "code",
      "source": [
        "def celsius_to_fahrenheit(x):\n",
        "    return x * 1.8 + 32"
      ],
      "metadata": {
        "id": "vYWC2R7diUDZ"
      },
      "execution_count": 26,
      "outputs": []
    },
    {
      "cell_type": "code",
      "source": [
        "data_C = np.array(range(100))\n",
        "data_F = celsius_to_fahrenheit(data_C)\n",
        "scaled_data_C = data_C / 100\n",
        "scaled_data_F = data_F / 100\n"
      ],
      "metadata": {
        "id": "uA5ymPqLpCRA"
      },
      "execution_count": 27,
      "outputs": []
    },
    {
      "cell_type": "code",
      "source": [
        "weight = np.random.uniform(0,5,1)\n",
        "print(weight)\n",
        "bias = 0"
      ],
      "metadata": {
        "colab": {
          "base_uri": "https://localhost:8080/"
        },
        "id": "6GenEAaip-Jx",
        "outputId": "17b6ccd9-8086-485f-ef03-91b30189c4d1"
      },
      "execution_count": 34,
      "outputs": [
        {
          "output_type": "stream",
          "name": "stdout",
          "text": [
            "[0.43255793]\n"
          ]
        }
      ]
    },
    {
      "cell_type": "code",
      "source": [
        "weight_graph = mul_graph()\n",
        "bias_graph = add_graph()"
      ],
      "metadata": {
        "id": "EvJKVg_bqE2a"
      },
      "execution_count": 50,
      "outputs": []
    },
    {
      "cell_type": "code",
      "source": [
        "weighted_data = weight_graph.forward(\n",
        "    weight, scaled_data_C)\n",
        "\n",
        "predict_data = bias_graph.forward(weighted_data, bias) #y를\n",
        "\n",
        "print(predict_data)"
      ],
      "metadata": {
        "colab": {
          "base_uri": "https://localhost:8080/"
        },
        "id": "fgR9jD-Cq0op",
        "outputId": "f1d412b0-500f-49c9-891f-9ccdcf3d70e6"
      },
      "execution_count": 49,
      "outputs": [
        {
          "output_type": "stream",
          "name": "stdout",
          "text": [
            "[0.         0.00432558 0.00865116 0.01297674 0.01730232 0.0216279\n",
            " 0.02595348 0.03027906 0.03460463 0.03893021 0.04325579 0.04758137\n",
            " 0.05190695 0.05623253 0.06055811 0.06488369 0.06920927 0.07353485\n",
            " 0.07786043 0.08218601 0.08651159 0.09083717 0.09516274 0.09948832\n",
            " 0.1038139  0.10813948 0.11246506 0.11679064 0.12111622 0.1254418\n",
            " 0.12976738 0.13409296 0.13841854 0.14274412 0.1470697  0.15139528\n",
            " 0.15572085 0.16004643 0.16437201 0.16869759 0.17302317 0.17734875\n",
            " 0.18167433 0.18599991 0.19032549 0.19465107 0.19897665 0.20330223\n",
            " 0.20762781 0.21195339 0.21627897 0.22060454 0.22493012 0.2292557\n",
            " 0.23358128 0.23790686 0.24223244 0.24655802 0.2508836  0.25520918\n",
            " 0.25953476 0.26386034 0.26818592 0.2725115  0.27683708 0.28116265\n",
            " 0.28548823 0.28981381 0.29413939 0.29846497 0.30279055 0.30711613\n",
            " 0.31144171 0.31576729 0.32009287 0.32441845 0.32874403 0.33306961\n",
            " 0.33739519 0.34172076 0.34604634 0.35037192 0.3546975  0.35902308\n",
            " 0.36334866 0.36767424 0.37199982 0.3763254  0.38065098 0.38497656\n",
            " 0.38930214 0.39362772 0.3979533  0.40227888 0.40660445 0.41093003\n",
            " 0.41525561 0.41958119 0.42390677 0.42823235]\n"
          ]
        }
      ]
    },
    {
      "cell_type": "code",
      "source": [
        "dout = 1\n",
        "dbias, dbiased_data = bias_graph.backward(dout)\n",
        "dweight, dscaled_data_C = weight_graph.backward(\n",
        "    dbiased_data)\n",
        "\n",
        "print(dbias)\n",
        "print(dweight)  #x가 100개라서 "
      ],
      "metadata": {
        "colab": {
          "base_uri": "https://localhost:8080/"
        },
        "id": "Zggd-0JFrPqy",
        "outputId": "69e5badd-6e85-47a9-c7f4-30340344e8e9"
      },
      "execution_count": 48,
      "outputs": [
        {
          "output_type": "stream",
          "name": "stdout",
          "text": [
            "1\n",
            "[0.   0.01 0.02 0.03 0.04 0.05 0.06 0.07 0.08 0.09 0.1  0.11 0.12 0.13\n",
            " 0.14 0.15 0.16 0.17 0.18 0.19 0.2  0.21 0.22 0.23 0.24 0.25 0.26 0.27\n",
            " 0.28 0.29 0.3  0.31 0.32 0.33 0.34 0.35 0.36 0.37 0.38 0.39 0.4  0.41\n",
            " 0.42 0.43 0.44 0.45 0.46 0.47 0.48 0.49 0.5  0.51 0.52 0.53 0.54 0.55\n",
            " 0.56 0.57 0.58 0.59 0.6  0.61 0.62 0.63 0.64 0.65 0.66 0.67 0.68 0.69\n",
            " 0.7  0.71 0.72 0.73 0.74 0.75 0.76 0.77 0.78 0.79 0.8  0.81 0.82 0.83\n",
            " 0.84 0.85 0.86 0.87 0.88 0.89 0.9  0.91 0.92 0.93 0.94 0.95 0.96 0.97\n",
            " 0.98 0.99]\n"
          ]
        }
      ]
    },
    {
      "cell_type": "code",
      "source": [
        "mseGraph = mse_graph()\n",
        "mse = mseGraph.forward(predict_data,scaled_data_F)\n",
        "print(mse)\n"
      ],
      "metadata": {
        "colab": {
          "base_uri": "https://localhost:8080/"
        },
        "id": "YVb6I3fRrwIB",
        "outputId": "99529995-3c2b-4b20-8021-4efea7b91fe3"
      },
      "execution_count": 47,
      "outputs": [
        {
          "output_type": "stream",
          "name": "stdout",
          "text": [
            "1.1495865951089919\n"
          ]
        }
      ]
    },
    {
      "cell_type": "code",
      "source": [
        "weight_mse_gradient, bias_mse_gradient = mseGraph.backward(scaled_data_C) #기울기\n",
        "\n",
        "print(weight_mse_gradient)\n",
        "print(bias_mse_gradient)"
      ],
      "metadata": {
        "colab": {
          "base_uri": "https://localhost:8080/"
        },
        "id": "UEFje98rsMzp",
        "outputId": "a7702b5c-9c05-4303-b39e-23468c105165"
      },
      "execution_count": 46,
      "outputs": [
        {
          "output_type": "stream",
          "name": "stdout",
          "text": [
            "-1.2147992072833065\n",
            "-1.993767649170814\n"
          ]
        }
      ]
    },
    {
      "cell_type": "code",
      "source": [
        "#발산을 막아주기 위한 learning_rate\n",
        "\n",
        "learning_rate = 0.1\n",
        "learned_weight = weight - learning_rate * weight_mse_gradient*np.average(dweight)\n",
        "print('before learning weight:', weight)\n",
        "print('after learning weight:', learned_weight)"
      ],
      "metadata": {
        "colab": {
          "base_uri": "https://localhost:8080/"
        },
        "id": "6riFwTkRsn1h",
        "outputId": "ce0b22a0-7b8e-4beb-c9c7-08838136dd53"
      },
      "execution_count": 45,
      "outputs": [
        {
          "output_type": "stream",
          "name": "stdout",
          "text": [
            "before learning weight: [0.43255793]\n",
            "after learning weight: [0.49269049]\n"
          ]
        }
      ]
    },
    {
      "cell_type": "code",
      "source": [
        "learned_bias = bias - learning_rate * bias_mse_gradient*dbias\n",
        "print('before learning bias : ', bias)\n",
        "print('after learning bias:', learned_bias)"
      ],
      "metadata": {
        "colab": {
          "base_uri": "https://localhost:8080/"
        },
        "id": "bgF_yGrQtcEg",
        "outputId": "34796281-ba5b-47be-feef-c64844693aa1"
      },
      "execution_count": 51,
      "outputs": [
        {
          "output_type": "stream",
          "name": "stdout",
          "text": [
            "before learning bias :  0\n",
            "after learning bias: 0.19937676491708142\n"
          ]
        }
      ]
    },
    {
      "cell_type": "code",
      "source": [
        "learning_rate = 0.1\n",
        "dout = 1\n",
        "bias = 0\n",
        "mseGraph = mse_graph()\n",
        "error_list=[]\n",
        "for i in range(1000):\n",
        "  #forward를 이용해서 계산\n",
        "  weighted_data = weight_graph.forward(\n",
        "    weight, scaled_data_C)\n",
        "  predict_data = bias_graph.forward(weighted_data, bias) #y를\n",
        "  #backward(미분값)\n",
        "  \n",
        "  dbias, dbiased_data = bias_graph.backward(dout)\n",
        "  dweight, dscaled_data_C = weight_graph.backward(\n",
        "    dbiased_data)\n",
        "  #mse\n",
        "  mse = mseGraph.forward(predict_data,scaled_data_F)\n",
        "  error_list.append(mse)\n",
        "  weight_mse_gradient, bias_mse_gradient = mseGraph.backward(scaled_data_C)\n",
        "  #learning , 바로 수정할거라 learned_weight가 아니라 그냥 weight\n",
        "  weight = weight - learning_rate * weight_mse_gradient*np.average(dweight)\n",
        "  bias = bias - learning_rate * bias_mse_gradient*dbias\n",
        "\n",
        "print(weight)\n",
        "print(bias)"
      ],
      "metadata": {
        "colab": {
          "base_uri": "https://localhost:8080/"
        },
        "id": "cB1_3O6wt6Bw",
        "outputId": "f563c2ca-a95b-4fdf-e661-3f48027ca1eb"
      },
      "execution_count": 67,
      "outputs": [
        {
          "output_type": "stream",
          "name": "stdout",
          "text": [
            "[1.80004608]\n",
            "0.31997632102818213\n"
          ]
        }
      ]
    },
    {
      "cell_type": "code",
      "source": [
        "print(error_list[-1])\n"
      ],
      "metadata": {
        "colab": {
          "base_uri": "https://localhost:8080/"
        },
        "id": "Mo4rqEmoy74I",
        "outputId": "8d01c607-3efc-45f0-e237-e4762c93d8de"
      },
      "execution_count": 69,
      "outputs": [
        {
          "output_type": "stream",
          "name": "stdout",
          "text": [
            "1.8034480900835142e-10\n"
          ]
        }
      ]
    },
    {
      "cell_type": "code",
      "source": [
        "plt.plot(error_list)\n",
        "plt.show()"
      ],
      "metadata": {
        "colab": {
          "base_uri": "https://localhost:8080/",
          "height": 265
        },
        "id": "LlriUgOc2XiA",
        "outputId": "abdbda39-0a2a-47bc-95e9-80a026ac9a9a"
      },
      "execution_count": 68,
      "outputs": [
        {
          "output_type": "display_data",
          "data": {
            "text/plain": [
              "<Figure size 432x288 with 1 Axes>"
            ],
            "image/png": "[encoded data removed]"
          },
          "metadata": {
            "needs_background": "light"
          }
        }
      ]
    }
  ]
}