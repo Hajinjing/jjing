{
  "nbformat": 4,
  "nbformat_minor": 0,
  "metadata": {
    "colab": {
      "name": "exam12_titanic.ipynb",
      "provenance": []
    },
    "kernelspec": {
      "name": "python3",
      "display_name": "Python 3"
    },
    "language_info": {
      "name": "python"
    }
  },
  "cells": [
    {
      "cell_type": "code",
      "execution_count": null,
      "metadata": {
        "id": "xb9cKTJxoShA"
      },
      "outputs": [],
      "source": [
        "import numpy as np\n",
        "from tensorflow.keras.models import Sequential\n",
        "from tensorflow.keras.layers import Dense, Dropout\n",
        "import matplotlib.pyplot as plt\n",
        "import pandas as pd\n",
        "import seaborn as sns\n"
      ]
    },
    {
      "cell_type": "code",
      "source": [
        "raw_data = sns.load_dataset('titanic')\n",
        "print(raw_data)"
      ],
      "metadata": {
        "colab": {
          "base_uri": "https://localhost:8080/"
        },
        "id": "DMYGaejGoqg7",
        "outputId": "ab193039-b6e8-4206-a7b3-844d179b235e"
      },
      "execution_count": null,
      "outputs": [
        {
          "output_type": "stream",
          "name": "stdout",
          "text": [
            "     survived  pclass     sex   age  sibsp  parch     fare embarked   class  \\\n",
            "0           0       3    male  22.0      1      0   7.2500        S   Third   \n",
            "1           1       1  female  38.0      1      0  71.2833        C   First   \n",
            "2           1       3  female  26.0      0      0   7.9250        S   Third   \n",
            "3           1       1  female  35.0      1      0  53.1000        S   First   \n",
            "4           0       3    male  35.0      0      0   8.0500        S   Third   \n",
            "..        ...     ...     ...   ...    ...    ...      ...      ...     ...   \n",
            "886         0       2    male  27.0      0      0  13.0000        S  Second   \n",
            "887         1       1  female  19.0      0      0  30.0000        S   First   \n",
            "888         0       3  female   NaN      1      2  23.4500        S   Third   \n",
            "889         1       1    male  26.0      0      0  30.0000        C   First   \n",
            "890         0       3    male  32.0      0      0   7.7500        Q   Third   \n",
            "\n",
            "       who  adult_male deck  embark_town alive  alone  \n",
            "0      man        True  NaN  Southampton    no  False  \n",
            "1    woman       False    C    Cherbourg   yes  False  \n",
            "2    woman       False  NaN  Southampton   yes   True  \n",
            "3    woman       False    C  Southampton   yes  False  \n",
            "4      man        True  NaN  Southampton    no   True  \n",
            "..     ...         ...  ...          ...   ...    ...  \n",
            "886    man        True  NaN  Southampton    no   True  \n",
            "887  woman       False    B  Southampton   yes   True  \n",
            "888  woman       False  NaN  Southampton    no  False  \n",
            "889    man        True    C    Cherbourg   yes   True  \n",
            "890    man        True  NaN   Queenstown    no   True  \n",
            "\n",
            "[891 rows x 15 columns]\n"
          ]
        }
      ]
    },
    {
      "cell_type": "code",
      "source": [
        "print(raw_data.isnull().sum())"
      ],
      "metadata": {
        "colab": {
          "base_uri": "https://localhost:8080/"
        },
        "id": "OmhCMh_Vo-sD",
        "outputId": "32d70d23-5707-4bd1-bc5b-a37e43ddab6a"
      },
      "execution_count": null,
      "outputs": [
        {
          "output_type": "stream",
          "name": "stdout",
          "text": [
            "survived         0\n",
            "pclass           0\n",
            "sex              0\n",
            "age            177\n",
            "sibsp            0\n",
            "parch            0\n",
            "fare             0\n",
            "embarked         2\n",
            "class            0\n",
            "who              0\n",
            "adult_male       0\n",
            "deck           688\n",
            "embark_town      2\n",
            "alive            0\n",
            "alone            0\n",
            "dtype: int64\n"
          ]
        }
      ]
    },
    {
      "cell_type": "code",
      "source": [
        " clean_data = raw_data.dropna(axis=1, thresh=500) #none값이500 개 이상인 컬럼삭제\n",
        " print(clean_data.columns)\n"
      ],
      "metadata": {
        "colab": {
          "base_uri": "https://localhost:8080/"
        },
        "id": "S77ZxOAdpRlF",
        "outputId": "17a6c135-1b93-40e1-b780-165f54f2817b"
      },
      "execution_count": null,
      "outputs": [
        {
          "output_type": "stream",
          "name": "stdout",
          "text": [
            "Index(['survived', 'pclass', 'sex', 'age', 'sibsp', 'parch', 'fare',\n",
            "       'embarked', 'class', 'who', 'adult_male', 'embark_town', 'alive',\n",
            "       'alone'],\n",
            "      dtype='object')\n"
          ]
        }
      ]
    },
    {
      "cell_type": "code",
      "source": [
        "mean_age = clean_data['age'].mean()\n",
        "print(mean_age)"
      ],
      "metadata": {
        "colab": {
          "base_uri": "https://localhost:8080/"
        },
        "id": "VihIkXHnphgd",
        "outputId": "01213877-d5f5-4737-f9ea-e964e961beac"
      },
      "execution_count": null,
      "outputs": [
        {
          "output_type": "stream",
          "name": "stdout",
          "text": [
            "29.69911764705882\n"
          ]
        }
      ]
    },
    {
      "cell_type": "code",
      "source": [
        "clean_data['age'].fillna(mean_age, inplace=True)\n",
        "print(clean_data.head())"
      ],
      "metadata": {
        "colab": {
          "base_uri": "https://localhost:8080/"
        },
        "id": "Jsb3pM-WpnH8",
        "outputId": "1c7937ce-6159-4fd0-e23f-8ba82407bdf7"
      },
      "execution_count": null,
      "outputs": [
        {
          "output_type": "stream",
          "name": "stdout",
          "text": [
            "   survived  pclass     sex   age  sibsp  parch     fare embarked  class  \\\n",
            "0         0       3    male  22.0      1      0   7.2500        S  Third   \n",
            "1         1       1  female  38.0      1      0  71.2833        C  First   \n",
            "2         1       3  female  26.0      0      0   7.9250        S  Third   \n",
            "3         1       1  female  35.0      1      0  53.1000        S  First   \n",
            "4         0       3    male  35.0      0      0   8.0500        S  Third   \n",
            "\n",
            "     who  adult_male  embark_town alive  alone  \n",
            "0    man        True  Southampton    no  False  \n",
            "1  woman       False    Cherbourg   yes  False  \n",
            "2  woman       False  Southampton   yes   True  \n",
            "3  woman       False  Southampton   yes  False  \n",
            "4    man        True  Southampton    no   True  \n"
          ]
        },
        {
          "output_type": "stream",
          "name": "stderr",
          "text": [
            "/usr/local/lib/python3.7/dist-packages/pandas/core/generic.py:6392: SettingWithCopyWarning: \n",
            "A value is trying to be set on a copy of a slice from a DataFrame\n",
            "\n",
            "See the caveats in the documentation: https://pandas.pydata.org/pandas-docs/stable/user_guide/indexing.html#returning-a-view-versus-a-copy\n",
            "  return self._update_inplace(result)\n"
          ]
        }
      ]
    },
    {
      "cell_type": "code",
      "source": [
        "clean_data.drop(['embark_town', 'alive'], axis=1, inplace=True)"
      ],
      "metadata": {
        "colab": {
          "base_uri": "https://localhost:8080/"
        },
        "id": "vpBODQndp44b",
        "outputId": "1130d3a3-1833-45ac-deb0-865c1b1bee35"
      },
      "execution_count": null,
      "outputs": [
        {
          "output_type": "stream",
          "name": "stderr",
          "text": [
            "/usr/local/lib/python3.7/dist-packages/pandas/core/frame.py:4913: SettingWithCopyWarning: \n",
            "A value is trying to be set on a copy of a slice from a DataFrame\n",
            "\n",
            "See the caveats in the documentation: https://pandas.pydata.org/pandas-docs/stable/user_guide/indexing.html#returning-a-view-versus-a-copy\n",
            "  errors=errors,\n"
          ]
        }
      ]
    },
    {
      "cell_type": "code",
      "source": [
        "print(clean_data.info())"
      ],
      "metadata": {
        "colab": {
          "base_uri": "https://localhost:8080/"
        },
        "id": "eEkhSZGBqTBK",
        "outputId": "380651e4-a84f-4e41-b7bb-f930dcca3696"
      },
      "execution_count": null,
      "outputs": [
        {
          "output_type": "stream",
          "name": "stdout",
          "text": [
            "<class 'pandas.core.frame.DataFrame'>\n",
            "RangeIndex: 891 entries, 0 to 890\n",
            "Data columns (total 12 columns):\n",
            " #   Column      Non-Null Count  Dtype   \n",
            "---  ------      --------------  -----   \n",
            " 0   survived    891 non-null    int64   \n",
            " 1   pclass      891 non-null    int64   \n",
            " 2   sex         891 non-null    object  \n",
            " 3   age         891 non-null    float64 \n",
            " 4   sibsp       891 non-null    int64   \n",
            " 5   parch       891 non-null    int64   \n",
            " 6   fare        891 non-null    float64 \n",
            " 7   embarked    889 non-null    object  \n",
            " 8   class       891 non-null    category\n",
            " 9   who         891 non-null    object  \n",
            " 10  adult_male  891 non-null    bool    \n",
            " 11  alone       891 non-null    bool    \n",
            "dtypes: bool(2), category(1), float64(2), int64(4), object(3)\n",
            "memory usage: 65.5+ KB\n",
            "None\n"
          ]
        }
      ]
    },
    {
      "cell_type": "code",
      "source": [
        "clean_data['embarked'].fillna(\n",
        "    method='ffill',inplace=True)\n",
        "print(clean_data.isnull().sum())"
      ],
      "metadata": {
        "colab": {
          "base_uri": "https://localhost:8080/"
        },
        "id": "Wq-bb92_qV4V",
        "outputId": "1751f303-2c98-47d4-d464-28411a0d4da6"
      },
      "execution_count": null,
      "outputs": [
        {
          "output_type": "stream",
          "name": "stdout",
          "text": [
            "survived      0\n",
            "pclass        0\n",
            "sex           0\n",
            "age           0\n",
            "sibsp         0\n",
            "parch         0\n",
            "fare          0\n",
            "embarked      0\n",
            "class         0\n",
            "who           0\n",
            "adult_male    0\n",
            "alone         0\n",
            "dtype: int64\n"
          ]
        },
        {
          "output_type": "stream",
          "name": "stderr",
          "text": [
            "/usr/local/lib/python3.7/dist-packages/pandas/core/generic.py:6392: SettingWithCopyWarning: \n",
            "A value is trying to be set on a copy of a slice from a DataFrame\n",
            "\n",
            "See the caveats in the documentation: https://pandas.pydata.org/pandas-docs/stable/user_guide/indexing.html#returning-a-view-versus-a-copy\n",
            "  return self._update_inplace(result)\n"
          ]
        }
      ]
    },
    {
      "cell_type": "code",
      "source": [
        "#target은 survived"
      ],
      "metadata": {
        "id": "so5Wmx-iqogM"
      },
      "execution_count": null,
      "outputs": []
    },
    {
      "cell_type": "code",
      "source": [
        "label=list(clean_data.columns)\n",
        "keep = label.pop(0)\n",
        "target = clean_data[[keep]]\n",
        "training_data = clean_data[label]\n",
        "print(training_data.head())\n",
        "print(target.head())"
      ],
      "metadata": {
        "colab": {
          "base_uri": "https://localhost:8080/"
        },
        "id": "8zyXE3iwq_Fk",
        "outputId": "9a00a447-c444-4e5e-c1b7-9e0d8ac974bf"
      },
      "execution_count": null,
      "outputs": [
        {
          "output_type": "stream",
          "name": "stdout",
          "text": [
            "   pclass     sex   age  sibsp  parch     fare embarked  class    who  \\\n",
            "0       3    male  22.0      1      0   7.2500        S  Third    man   \n",
            "1       1  female  38.0      1      0  71.2833        C  First  woman   \n",
            "2       3  female  26.0      0      0   7.9250        S  Third  woman   \n",
            "3       1  female  35.0      1      0  53.1000        S  First  woman   \n",
            "4       3    male  35.0      0      0   8.0500        S  Third    man   \n",
            "\n",
            "   adult_male  alone  \n",
            "0        True  False  \n",
            "1       False  False  \n",
            "2       False   True  \n",
            "3       False  False  \n",
            "4        True   True  \n",
            "   survived\n",
            "0         0\n",
            "1         1\n",
            "2         1\n",
            "3         1\n",
            "4         0\n"
          ]
        }
      ]
    },
    {
      "cell_type": "code",
      "source": [
        "#계산이 가능한 데이터는 age와 fare밖에 없음\n",
        "value_data = training_data[['age','fare']]\n",
        "print(value_data.head())"
      ],
      "metadata": {
        "colab": {
          "base_uri": "https://localhost:8080/"
        },
        "id": "IknrJsMYreC8",
        "outputId": "47116003-2659-4f2e-ffee-3ecfb937e032"
      },
      "execution_count": null,
      "outputs": [
        {
          "output_type": "stream",
          "name": "stdout",
          "text": [
            "    age     fare\n",
            "0  22.0   7.2500\n",
            "1  38.0  71.2833\n",
            "2  26.0   7.9250\n",
            "3  35.0  53.1000\n",
            "4  35.0   8.0500\n"
          ]
        }
      ]
    },
    {
      "cell_type": "code",
      "source": [
        "#value데이터를 scale, 표준화\n",
        "from sklearn.preprocessing import StandardScaler\n",
        "scaler = StandardScaler()\n",
        "scaled_data = scaler.fit_transform(value_data)\n",
        "value_data = pd.DataFrame(scaled_data, columns=value_data.columns)\n",
        "print(value_data.describe())"
      ],
      "metadata": {
        "colab": {
          "base_uri": "https://localhost:8080/"
        },
        "id": "eX8BBHK7r7Ac",
        "outputId": "716d313f-327d-4e7c-b957-4f1868ddb6b8"
      },
      "execution_count": null,
      "outputs": [
        {
          "output_type": "stream",
          "name": "stdout",
          "text": [
            "                age          fare\n",
            "count  8.910000e+02  8.910000e+02\n",
            "mean   2.562796e-16 -4.373606e-17\n",
            "std    1.000562e+00  1.000562e+00\n",
            "min   -2.253155e+00 -6.484217e-01\n",
            "25%   -5.924806e-01 -4.891482e-01\n",
            "50%    0.000000e+00 -3.573909e-01\n",
            "75%    4.079260e-01 -2.424635e-02\n",
            "max    3.870872e+00  9.667167e+00\n"
          ]
        }
      ]
    },
    {
      "cell_type": "code",
      "source": [
        "\n",
        "training_data.drop(['age', 'fare'], axis=1, inplace=True)"
      ],
      "metadata": {
        "colab": {
          "base_uri": "https://localhost:8080/"
        },
        "id": "DwAkpf6wuPFL",
        "outputId": "c79dd1e4-37ac-4753-baf5-a57009f8614e"
      },
      "execution_count": null,
      "outputs": [
        {
          "output_type": "stream",
          "name": "stderr",
          "text": [
            "/usr/local/lib/python3.7/dist-packages/pandas/core/frame.py:4913: SettingWithCopyWarning: \n",
            "A value is trying to be set on a copy of a slice from a DataFrame\n",
            "\n",
            "See the caveats in the documentation: https://pandas.pydata.org/pandas-docs/stable/user_guide/indexing.html#returning-a-view-versus-a-copy\n",
            "  errors=errors,\n"
          ]
        }
      ]
    },
    {
      "cell_type": "code",
      "source": [
        "onehot_data = pd.get_dummies(training_data, columns = training_data.columns)\n",
        "print(onehot_data.head())"
      ],
      "metadata": {
        "colab": {
          "base_uri": "https://localhost:8080/"
        },
        "id": "qV01V2WLsZ2M",
        "outputId": "af1c3d75-b5c3-4e79-a90c-8e159d6064df"
      },
      "execution_count": null,
      "outputs": [
        {
          "output_type": "stream",
          "name": "stdout",
          "text": [
            "   pclass_1  pclass_2  pclass_3  sex_female  sex_male  sibsp_0  sibsp_1  \\\n",
            "0         0         0         1           0         1        0        1   \n",
            "1         1         0         0           1         0        0        1   \n",
            "2         0         0         1           1         0        1        0   \n",
            "3         1         0         0           1         0        0        1   \n",
            "4         0         0         1           0         1        1        0   \n",
            "\n",
            "   sibsp_2  sibsp_3  sibsp_4  ...  class_First  class_Second  class_Third  \\\n",
            "0        0        0        0  ...            0             0            1   \n",
            "1        0        0        0  ...            1             0            0   \n",
            "2        0        0        0  ...            0             0            1   \n",
            "3        0        0        0  ...            1             0            0   \n",
            "4        0        0        0  ...            0             0            1   \n",
            "\n",
            "   who_child  who_man  who_woman  adult_male_False  adult_male_True  \\\n",
            "0          0        1          0                 0                1   \n",
            "1          0        0          1                 1                0   \n",
            "2          0        0          1                 1                0   \n",
            "3          0        0          1                 1                0   \n",
            "4          0        1          0                 0                1   \n",
            "\n",
            "   alone_False  alone_True  \n",
            "0            1           0  \n",
            "1            1           0  \n",
            "2            0           1  \n",
            "3            1           0  \n",
            "4            0           1  \n",
            "\n",
            "[5 rows x 32 columns]\n"
          ]
        }
      ]
    },
    {
      "cell_type": "code",
      "source": [
        "print(onehot_data.info())"
      ],
      "metadata": {
        "colab": {
          "base_uri": "https://localhost:8080/"
        },
        "id": "5v7YwmCyuiyM",
        "outputId": "2311593d-73b7-491a-d53a-68841cb23307"
      },
      "execution_count": null,
      "outputs": [
        {
          "output_type": "stream",
          "name": "stdout",
          "text": [
            "<class 'pandas.core.frame.DataFrame'>\n",
            "RangeIndex: 891 entries, 0 to 890\n",
            "Data columns (total 32 columns):\n",
            " #   Column            Non-Null Count  Dtype\n",
            "---  ------            --------------  -----\n",
            " 0   pclass_1          891 non-null    uint8\n",
            " 1   pclass_2          891 non-null    uint8\n",
            " 2   pclass_3          891 non-null    uint8\n",
            " 3   sex_female        891 non-null    uint8\n",
            " 4   sex_male          891 non-null    uint8\n",
            " 5   sibsp_0           891 non-null    uint8\n",
            " 6   sibsp_1           891 non-null    uint8\n",
            " 7   sibsp_2           891 non-null    uint8\n",
            " 8   sibsp_3           891 non-null    uint8\n",
            " 9   sibsp_4           891 non-null    uint8\n",
            " 10  sibsp_5           891 non-null    uint8\n",
            " 11  sibsp_8           891 non-null    uint8\n",
            " 12  parch_0           891 non-null    uint8\n",
            " 13  parch_1           891 non-null    uint8\n",
            " 14  parch_2           891 non-null    uint8\n",
            " 15  parch_3           891 non-null    uint8\n",
            " 16  parch_4           891 non-null    uint8\n",
            " 17  parch_5           891 non-null    uint8\n",
            " 18  parch_6           891 non-null    uint8\n",
            " 19  embarked_C        891 non-null    uint8\n",
            " 20  embarked_Q        891 non-null    uint8\n",
            " 21  embarked_S        891 non-null    uint8\n",
            " 22  class_First       891 non-null    uint8\n",
            " 23  class_Second      891 non-null    uint8\n",
            " 24  class_Third       891 non-null    uint8\n",
            " 25  who_child         891 non-null    uint8\n",
            " 26  who_man           891 non-null    uint8\n",
            " 27  who_woman         891 non-null    uint8\n",
            " 28  adult_male_False  891 non-null    uint8\n",
            " 29  adult_male_True   891 non-null    uint8\n",
            " 30  alone_False       891 non-null    uint8\n",
            " 31  alone_True        891 non-null    uint8\n",
            "dtypes: uint8(32)\n",
            "memory usage: 28.0 KB\n",
            "None\n"
          ]
        }
      ]
    },
    {
      "cell_type": "code",
      "source": [
        "training_data = pd.concat((onehot_data, value_data), axis=1)\n",
        "print(training_data.info())"
      ],
      "metadata": {
        "colab": {
          "base_uri": "https://localhost:8080/"
        },
        "id": "SIT2yW7Euwrb",
        "outputId": "98eaaaec-7178-4721-bf4d-f19fd0a7e515"
      },
      "execution_count": null,
      "outputs": [
        {
          "output_type": "stream",
          "name": "stdout",
          "text": [
            "<class 'pandas.core.frame.DataFrame'>\n",
            "RangeIndex: 891 entries, 0 to 890\n",
            "Data columns (total 34 columns):\n",
            " #   Column            Non-Null Count  Dtype  \n",
            "---  ------            --------------  -----  \n",
            " 0   pclass_1          891 non-null    uint8  \n",
            " 1   pclass_2          891 non-null    uint8  \n",
            " 2   pclass_3          891 non-null    uint8  \n",
            " 3   sex_female        891 non-null    uint8  \n",
            " 4   sex_male          891 non-null    uint8  \n",
            " 5   sibsp_0           891 non-null    uint8  \n",
            " 6   sibsp_1           891 non-null    uint8  \n",
            " 7   sibsp_2           891 non-null    uint8  \n",
            " 8   sibsp_3           891 non-null    uint8  \n",
            " 9   sibsp_4           891 non-null    uint8  \n",
            " 10  sibsp_5           891 non-null    uint8  \n",
            " 11  sibsp_8           891 non-null    uint8  \n",
            " 12  parch_0           891 non-null    uint8  \n",
            " 13  parch_1           891 non-null    uint8  \n",
            " 14  parch_2           891 non-null    uint8  \n",
            " 15  parch_3           891 non-null    uint8  \n",
            " 16  parch_4           891 non-null    uint8  \n",
            " 17  parch_5           891 non-null    uint8  \n",
            " 18  parch_6           891 non-null    uint8  \n",
            " 19  embarked_C        891 non-null    uint8  \n",
            " 20  embarked_Q        891 non-null    uint8  \n",
            " 21  embarked_S        891 non-null    uint8  \n",
            " 22  class_First       891 non-null    uint8  \n",
            " 23  class_Second      891 non-null    uint8  \n",
            " 24  class_Third       891 non-null    uint8  \n",
            " 25  who_child         891 non-null    uint8  \n",
            " 26  who_man           891 non-null    uint8  \n",
            " 27  who_woman         891 non-null    uint8  \n",
            " 28  adult_male_False  891 non-null    uint8  \n",
            " 29  adult_male_True   891 non-null    uint8  \n",
            " 30  alone_False       891 non-null    uint8  \n",
            " 31  alone_True        891 non-null    uint8  \n",
            " 32  age               891 non-null    float64\n",
            " 33  fare              891 non-null    float64\n",
            "dtypes: float64(2), uint8(32)\n",
            "memory usage: 41.9 KB\n",
            "None\n"
          ]
        }
      ]
    },
    {
      "cell_type": "code",
      "source": [
        "from sklearn.model_selection import train_test_split\n",
        "X_train, X_test, Y_train, Y_test = train_test_split(\n",
        "    training_data, target, test_size=0.2)    #테스트 사이즈 20%로 설정 \n",
        "\n",
        "print(X_train.shape, Y_train.shape)\n",
        "print(X_test.shape, Y_test.shape)\n",
        "\n"
      ],
      "metadata": {
        "colab": {
          "base_uri": "https://localhost:8080/"
        },
        "id": "ERb3y_4XyJfq",
        "outputId": "5b0bd4ad-7236-4721-fa07-f2bc87cd82cf"
      },
      "execution_count": null,
      "outputs": [
        {
          "output_type": "stream",
          "name": "stdout",
          "text": [
            "(712, 34) (712, 1)\n",
            "(179, 34) (179, 1)\n"
          ]
        }
      ]
    },
    {
      "cell_type": "code",
      "source": [
        "from tensorflow.keras.models import Sequential\n",
        "from tensorflow.keras.layers import Dense, Dropout"
      ],
      "metadata": {
        "id": "j5kZidxTy69A"
      },
      "execution_count": null,
      "outputs": []
    },
    {
      "cell_type": "code",
      "source": [
        "model = Sequential()\n",
        "model.add(Dense(128, input_dim=34, activation='relu'))\n",
        "model.add(Dropout(0.02))\n",
        "model.add(Dense(256, activation='relu'))\n",
        "model.add(Dropout(0.02))\n",
        "model.add(Dense(512, activation='relu'))\n",
        "model.add(Dropout(0.02))\n",
        "model.add(Dense(256, activation='relu'))\n",
        "model.add(Dropout(0.02))\n",
        "model.add(Dense(128, activation='relu'))\n",
        "model.add(Dropout(0.02))\n",
        "model.add(Dense(64, activation='relu'))\n",
        "model.add(Dropout(0.02))\n",
        "model.add(Dense(32, activation='relu'))\n",
        "model.add(Dropout(0.02))\n",
        "model.add(Dense(1, activation='sigmoid'))\n",
        "model.summary()"
      ],
      "metadata": {
        "colab": {
          "base_uri": "https://localhost:8080/"
        },
        "id": "wwHaj8_LzPCS",
        "outputId": "fc260966-3853-4c09-ab95-3540835d7cd8"
      },
      "execution_count": null,
      "outputs": [
        {
          "output_type": "stream",
          "name": "stdout",
          "text": [
            "Model: \"sequential_2\"\n",
            "_________________________________________________________________\n",
            " Layer (type)                Output Shape              Param #   \n",
            "=================================================================\n",
            " dense_16 (Dense)            (None, 128)               4480      \n",
            "                                                                 \n",
            " dropout_14 (Dropout)        (None, 128)               0         \n",
            "                                                                 \n",
            " dense_17 (Dense)            (None, 256)               33024     \n",
            "                                                                 \n",
            " dropout_15 (Dropout)        (None, 256)               0         \n",
            "                                                                 \n",
            " dense_18 (Dense)            (None, 512)               131584    \n",
            "                                                                 \n",
            " dropout_16 (Dropout)        (None, 512)               0         \n",
            "                                                                 \n",
            " dense_19 (Dense)            (None, 256)               131328    \n",
            "                                                                 \n",
            " dropout_17 (Dropout)        (None, 256)               0         \n",
            "                                                                 \n",
            " dense_20 (Dense)            (None, 128)               32896     \n",
            "                                                                 \n",
            " dropout_18 (Dropout)        (None, 128)               0         \n",
            "                                                                 \n",
            " dense_21 (Dense)            (None, 64)                8256      \n",
            "                                                                 \n",
            " dropout_19 (Dropout)        (None, 64)                0         \n",
            "                                                                 \n",
            " dense_22 (Dense)            (None, 32)                2080      \n",
            "                                                                 \n",
            " dropout_20 (Dropout)        (None, 32)                0         \n",
            "                                                                 \n",
            " dense_23 (Dense)            (None, 1)                 33        \n",
            "                                                                 \n",
            "=================================================================\n",
            "Total params: 343,681\n",
            "Trainable params: 343,681\n",
            "Non-trainable params: 0\n",
            "_________________________________________________________________\n"
          ]
        }
      ]
    },
    {
      "cell_type": "code",
      "source": [
        "model.compile(loss='mse', optimizer='adam',\n",
        "              metrics=['binary_accuracy'])\n",
        "fit_hist = model.fit(\n",
        "    X_train, Y_train, batch_size=50, epochs=10,\n",
        "    validation_split=0.2, verbose=1)"
      ],
      "metadata": {
        "colab": {
          "base_uri": "https://localhost:8080/"
        },
        "id": "5q4i5cpC352K",
        "outputId": "3c17da06-8cbb-4255-f336-82a71050a386"
      },
      "execution_count": null,
      "outputs": [
        {
          "output_type": "stream",
          "name": "stdout",
          "text": [
            "Epoch 1/10\n",
            "12/12 [==============================] - 1s 27ms/step - loss: 0.1988 - binary_accuracy: 0.7065 - val_loss: 0.1880 - val_binary_accuracy: 0.7692\n",
            "Epoch 2/10\n",
            "12/12 [==============================] - 0s 11ms/step - loss: 0.1432 - binary_accuracy: 0.8084 - val_loss: 0.1442 - val_binary_accuracy: 0.7552\n",
            "Epoch 3/10\n",
            "12/12 [==============================] - 0s 15ms/step - loss: 0.1354 - binary_accuracy: 0.8155 - val_loss: 0.1414 - val_binary_accuracy: 0.8042\n",
            "Epoch 4/10\n",
            "12/12 [==============================] - 0s 13ms/step - loss: 0.1293 - binary_accuracy: 0.8278 - val_loss: 0.1498 - val_binary_accuracy: 0.7762\n",
            "Epoch 5/10\n",
            "12/12 [==============================] - 0s 14ms/step - loss: 0.1238 - binary_accuracy: 0.8383 - val_loss: 0.1357 - val_binary_accuracy: 0.7832\n",
            "Epoch 6/10\n",
            "12/12 [==============================] - 0s 13ms/step - loss: 0.1195 - binary_accuracy: 0.8418 - val_loss: 0.1324 - val_binary_accuracy: 0.7972\n",
            "Epoch 7/10\n",
            "12/12 [==============================] - 0s 12ms/step - loss: 0.1170 - binary_accuracy: 0.8453 - val_loss: 0.1404 - val_binary_accuracy: 0.8042\n",
            "Epoch 8/10\n",
            "12/12 [==============================] - 0s 11ms/step - loss: 0.1237 - binary_accuracy: 0.8330 - val_loss: 0.1390 - val_binary_accuracy: 0.7902\n",
            "Epoch 9/10\n",
            "12/12 [==============================] - 0s 14ms/step - loss: 0.1170 - binary_accuracy: 0.8471 - val_loss: 0.1361 - val_binary_accuracy: 0.8042\n",
            "Epoch 10/10\n",
            "12/12 [==============================] - 0s 13ms/step - loss: 0.1128 - binary_accuracy: 0.8489 - val_loss: 0.1467 - val_binary_accuracy: 0.8112\n"
          ]
        }
      ]
    },
    {
      "cell_type": "code",
      "source": [
        "import matplotlib.pyplot as plt\n",
        "plt.plot(fit_hist.history['binary_accuracy'])\n",
        "plt.plot(fit_hist.history['val_binary_accuracy'])\n",
        "plt.show()"
      ],
      "metadata": {
        "colab": {
          "base_uri": "https://localhost:8080/",
          "height": 265
        },
        "id": "agAoZue44VeJ",
        "outputId": "3f9dc3d0-0274-4074-b18f-17aeaf5d93bc"
      },
      "execution_count": null,
      "outputs": [
        {
          "output_type": "display_data",
          "data": {
            "text/plain": [
              "<Figure size 432x288 with 1 Axes>"
            ],
            "image/png": "[encoded data removed]"
          },
          "metadata": {
            "needs_background": "light"
          }
        }
      ]
    },
    {
      "cell_type": "code",
      "source": [
        "score = model.evaluate(X_test, Y_test, verbose=0)\n",
        "print('loss',score[0])\n",
        "print('accuracy',score[1])"
      ],
      "metadata": {
        "colab": {
          "base_uri": "https://localhost:8080/"
        },
        "id": "tm7xyIdt5j96",
        "outputId": "3c7c5762-e950-4705-c980-cfbeb886adde"
      },
      "execution_count": null,
      "outputs": [
        {
          "output_type": "stream",
          "name": "stdout",
          "text": [
            "loss 0.1285930871963501\n",
            "accuracy 0.8156424760818481\n"
          ]
        }
      ]
    },
    {
      "cell_type": "code",
      "source": [
        ""
      ],
      "metadata": {
        "id": "Fyg7Uje-6Bbp"
      },
      "execution_count": null,
      "outputs": []
    }
  ]
}